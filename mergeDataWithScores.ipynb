{
 "cells": [
  {
   "cell_type": "code",
   "execution_count": 2,
   "id": "a528ba6c",
   "metadata": {},
   "outputs": [],
   "source": [
    "import pandas as pd\n",
    "\n",
    "yummy_service_df = pd.read_csv('yummy_service_scores.csv')\n",
    "cafe_data_df = pd.read_csv('cafe_data.csv')"
   ]
  },
  {
   "cell_type": "code",
   "execution_count": 3,
   "id": "92e2fdb2",
   "metadata": {},
   "outputs": [],
   "source": [
    "# merge the dataframes on business_id\n",
    "# We'll use an inner join to keep only the rows that have matches in both da\n",
    "merged_df = pd.merge(\n",
    "    cafe_data_df, \n",
    "    yummy_service_df[['business_id', 'mean_yummy', 'mean_service']], \n",
    "    on='business_id', \n",
    "    how='inner'\n",
    ")\n",
    "\n",
    "merged_df.to_csv('cafe_data_with_scores.csv', index=False)"
   ]
  }
 ],
 "metadata": {
  "kernelspec": {
   "display_name": "Python 3",
   "language": "python",
   "name": "python3"
  },
  "language_info": {
   "codemirror_mode": {
    "name": "ipython",
    "version": 3
   },
   "file_extension": ".py",
   "mimetype": "text/x-python",
   "name": "python",
   "nbconvert_exporter": "python",
   "pygments_lexer": "ipython3",
   "version": "3.12.10"
  }
 },
 "nbformat": 4,
 "nbformat_minor": 5
}
