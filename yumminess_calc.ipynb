{
 "cells": [
  {
   "cell_type": "code",
   "execution_count": null,
   "metadata": {},
   "outputs": [
    {
     "name": "stderr",
     "output_type": "stream",
     "text": [
      "/Users/nikolaj/anaconda3/envs/datathon/lib/python3.9/site-packages/tqdm/auto.py:21: TqdmWarning: IProgress not found. Please update jupyter and ipywidgets. See https://ipywidgets.readthedocs.io/en/stable/user_install.html\n",
      "  from .autonotebook import tqdm as notebook_tqdm\n"
     ]
    },
    {
     "name": "stdout",
     "output_type": "stream",
     "text": [
      "                                                text  yumminess_score\n",
      "0  While I was sad to see Bibo close at this loca...             0.50\n",
      "1  Friendly baristas and great coffee. Since thei...             0.80\n",
      "2  Love their coffee and vibe. The breakfast food...             0.90\n",
      "3  It's like everything you try is your new favor...             1.00\n",
      "4  This is probably one of my favorite boba place...             0.85\n"
     ]
    }
   ],
   "source": [
    "from datasets import Dataset\n",
    "import pandas as pd\n",
    "from sklearn.model_selection import train_test_split\n",
    "\n",
    "TRAIN_DATA_PATH = '/Users/nikolaj/Desktop/datathon/review_chunks/score_training.csv'\n",
    "use_cols = [\"text\", \"yumminess_score\"]\n",
    "\n",
    "df = pd.read_csv(TRAIN_DATA_PATH, usecols=use_cols)\n",
    "\n",
    "# split data set to trainling and evaluation sets\n",
    "train_df, eval_df = train_test_split(df, test_size=0.2, random_state=42)\n",
    "train_dataset = Dataset.from_pandas(train_df.reset_index(drop=True))\n",
    "eval_dataset = Dataset.from_pandas(eval_df.reset_index(drop=True))\n",
    "print(df.head())"
   ]
  },
  {
   "cell_type": "code",
   "execution_count": null,
   "metadata": {},
   "outputs": [
    {
     "name": "stderr",
     "output_type": "stream",
     "text": [
      "Map: 100%|██████████| 240/240 [00:00<00:00, 3035.98 examples/s]\n",
      "Map: 100%|██████████| 60/60 [00:00<00:00, 2591.82 examples/s]\n"
     ]
    }
   ],
   "source": [
    "from transformers import AutoTokenizer\n",
    "\n",
    "tokenizer = AutoTokenizer.from_pretrained(\"distilbert-base-uncased\") # base BERT model in \"tokenizer\"\n",
    "\n",
    "train_tokenized = train_dataset.map(\n",
    "    lambda example: tokenizer(\n",
    "        str(example[\"text\"]),\n",
    "        truncation=True,\n",
    "        padding=\"max_length\",\n",
    "        max_length=128\n",
    "    )\n",
    ")\n",
    "eval_tokenized = eval_dataset.map(\n",
    "    lambda example: tokenizer(\n",
    "        str(example[\"text\"]),\n",
    "        truncation=True,\n",
    "        padding=\"max_length\",\n",
    "        max_length=128\n",
    "    )\n",
    ")\n",
    "\n",
    "train_tokenized = train_tokenized.rename_column(\"yumminess_score\", \"labels\")\n",
    "eval_tokenized = eval_tokenized.rename_column(\"yumminess_score\", \"labels\")\n",
    "train_tokenized.set_format(\"torch\", columns=[\"input_ids\", \"attention_mask\", \"labels\"])\n",
    "eval_tokenized.set_format(\"torch\", columns=[\"input_ids\", \"attention_mask\", \"labels\"])\n"
   ]
  },
  {
   "cell_type": "code",
   "execution_count": null,
   "metadata": {},
   "outputs": [
    {
     "name": "stderr",
     "output_type": "stream",
     "text": [
      "Some weights of DistilBertForSequenceClassification were not initialized from the model checkpoint at distilbert-base-uncased and are newly initialized: ['classifier.bias', 'classifier.weight', 'pre_classifier.bias', 'pre_classifier.weight']\n",
      "You should probably TRAIN this model on a down-stream task to be able to use it for predictions and inference.\n"
     ]
    },
    {
     "data": {
      "text/html": [
       "\n",
       "    <div>\n",
       "      \n",
       "      <progress value='45' max='45' style='width:300px; height:20px; vertical-align: middle;'></progress>\n",
       "      [45/45 00:30, Epoch 3/3]\n",
       "    </div>\n",
       "    <table border=\"1\" class=\"dataframe\">\n",
       "  <thead>\n",
       " <tr style=\"text-align: left;\">\n",
       "      <th>Step</th>\n",
       "      <th>Training Loss</th>\n",
       "    </tr>\n",
       "  </thead>\n",
       "  <tbody>\n",
       "  </tbody>\n",
       "</table><p>"
      ],
      "text/plain": [
       "<IPython.core.display.HTML object>"
      ]
     },
     "metadata": {},
     "output_type": "display_data"
    },
    {
     "data": {
      "text/plain": [
       "TrainOutput(global_step=45, training_loss=0.06722126007080079, metrics={'train_runtime': 33.5446, 'train_samples_per_second': 21.464, 'train_steps_per_second': 1.341, 'total_flos': 23843706531840.0, 'train_loss': 0.06722126007080079, 'epoch': 3.0})"
      ]
     },
     "execution_count": 12,
     "metadata": {},
     "output_type": "execute_result"
    }
   ],
   "source": [
    "from transformers import AutoModelForSequenceClassification, TrainingArguments, Trainer\n",
    "import accelerate\n",
    "from torch import nn\n",
    "\n",
    "class RegressionTrainer(Trainer):\n",
    "    def compute_loss(self, model, inputs, return_outputs=False):\n",
    "        labels = inputs.pop(\"labels\")\n",
    "        outputs = model(**inputs)\n",
    "        logits = outputs.logits\n",
    "        loss_fct = nn.MSELoss()\n",
    "        loss = loss_fct(logits.squeeze(), labels.squeeze())\n",
    "        return (loss, outputs) if return_outputs else loss\n",
    "\n",
    "model = AutoModelForSequenceClassification.from_pretrained(\n",
    "    \"distilbert-base-uncased\", \n",
    "    num_labels=1, \n",
    "    problem_type=\"regression\" \n",
    ")\n",
    "\n",
    "training_args = TrainingArguments(\n",
    "    output_dir=\"./yum_model\",\n",
    "    per_device_train_batch_size=16,\n",
    "    num_train_epochs=3,\n",
    "    logging_dir='./logs',\n",
    "    save_steps=500,\n",
    ")\n",
    "\n",
    "def add_labels(example):\n",
    "    example['labels'] = example['yumminess_score']\n",
    "    return example\n",
    "\n",
    "\n",
    "trainer = RegressionTrainer(\n",
    "    model=model,\n",
    "    args=training_args,\n",
    "    train_dataset=train_tokenized,\n",
    "    eval_dataset=eval_tokenized,\n",
    ")\n",
    "\n",
    "trainer.train()"
   ]
  },
  {
   "cell_type": "code",
   "execution_count": null,
   "metadata": {},
   "outputs": [
    {
     "data": {
      "text/html": [],
      "text/plain": [
       "<IPython.core.display.HTML object>"
      ]
     },
     "metadata": {},
     "output_type": "display_data"
    },
    {
     "data": {
      "image/png": "[encoded data removed]",
      "text/plain": [
       "<Figure size 640x480 with 2 Axes>"
      ]
     },
     "metadata": {},
     "output_type": "display_data"
    }
   ],
   "source": [
    "predictions = trainer.predict(eval_tokenized)\n",
    "\n",
    "pred_scores = predictions.predictions.squeeze()  \n",
    "true_scores = predictions.label_ids.squeeze()\n",
    "\n",
    "bins = [0.0, 0.5, 1.0]\n",
    "labels = ['low', 'high']\n",
    "\n",
    "pred_bins = pd.cut(pred_scores, bins=bins, labels=labels, include_lowest=True).astype(str)\n",
    "true_bins = pd.cut(true_scores, bins=bins, labels=labels, include_lowest=True).astype(str)\n",
    "\n",
    "from sklearn.metrics import confusion_matrix, ConfusionMatrixDisplay\n",
    "\n",
    "cm = confusion_matrix(true_bins, pred_bins, labels=labels)\n",
    "import matplotlib.pyplot as plt\n",
    "\n",
    "disp = ConfusionMatrixDisplay(confusion_matrix=cm, display_labels=labels)\n",
    "disp.plot(cmap=\"Reds\")\n",
    "\n",
    "plt.title(\"Yumminess Score Confusion Matrix\") \n",
    "plt.show()\n"
   ]
  },
  {
   "cell_type": "code",
   "execution_count": 25,
   "metadata": {},
   "outputs": [
    {
     "name": "stdout",
     "output_type": "stream",
     "text": [
      "Accuracy: 0.8167\n"
     ]
    }
   ],
   "source": [
    "from sklearn.metrics import accuracy_score\n",
    "\n",
    "accuracy = accuracy_score(true_bins, pred_bins)\n",
    "print(f\"Accuracy: {accuracy:.4f}\")"
   ]
  },
  {
   "cell_type": "code",
   "execution_count": 18,
   "metadata": {},
   "outputs": [
    {
     "name": "stderr",
     "output_type": "stream",
     "text": [
      "Device set to use mps:0\n"
     ]
    },
    {
     "data": {
      "text/plain": [
       "[{'label': 'LABEL_0', 'score': 0.73695307970047}]"
      ]
     },
     "execution_count": 18,
     "metadata": {},
     "output_type": "execute_result"
    }
   ],
   "source": [
    "from transformers import pipeline\n",
    "\n",
    "classifier_yumminess = pipeline(\"text-classification\", model=model, tokenizer=tokenizer)\n",
    "\n",
    "review = \"Wow, how have I not heard about this place before? I stumbled upon this place with some friends after trying to go to a (very disappointing) carnival. But this saved the day! The staff was super friendly, happily explaining all their options to us. The little walk up is cute and the options have a good variety from regular coffees, smoothies and fun flavors. The best is that you can pick iced, hot or blended for no additional charge! I love a good blended coffee, so I tried the snowy mocha - their version of a white chocolate mocha with ghiradelli chocolate. I hate super sweet drinks (Starbucks Frappuccinos are a little too much for me), but this drink was nicely balanced where you get some chocolate but still get a good coffee flavor. My friend said the same about her blended Mexican coffee. The pricing was fair for the size. Best part: you get a delicious little chocolate covered coffee bean on top! Extra coffee flavor! Definitely a good find!!\"\n",
    "classifier_yumminess(review)"
   ]
  },
  {
   "cell_type": "code",
   "execution_count": null,
   "metadata": {},
   "outputs": [
    {
     "data": {
      "text/plain": [
       "['classifier_yumminess.pkl']"
      ]
     },
     "execution_count": 17,
     "metadata": {},
     "output_type": "execute_result"
    }
   ],
   "source": [
    "import joblib\n",
    "\n",
    "joblib.dump(classifier_yumminess, \"classifier_yumminess.pkl\")"
   ]
  }
 ],
 "metadata": {
  "kernelspec": {
   "display_name": "datathon",
   "language": "python",
   "name": "python3"
  },
  "language_info": {
   "codemirror_mode": {
    "name": "ipython",
    "version": 3
   },
   "file_extension": ".py",
   "mimetype": "text/x-python",
   "name": "python",
   "nbconvert_exporter": "python",
   "pygments_lexer": "ipython3",
   "version": "3.9.21"
  }
 },
 "nbformat": 4,
 "nbformat_minor": 2
}
